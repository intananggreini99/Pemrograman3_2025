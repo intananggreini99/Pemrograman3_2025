import pandas as pd 

def loaddata(filepath): 
	return pd.readcsv(filepath) 

# Contoh Penggunaan
data = load_data('data/dataset.csv') 
print(data.head()) 

